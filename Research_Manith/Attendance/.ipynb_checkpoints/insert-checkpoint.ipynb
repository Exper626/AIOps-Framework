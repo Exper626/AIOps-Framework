{
 "cells": [
  {
   "cell_type": "code",
   "execution_count": 1,
   "id": "33e30020-f26b-4123-88b7-547c7c06d22b",
   "metadata": {},
   "outputs": [
    {
     "name": "stdout",
     "output_type": "stream",
     "text": [
      "Data transferred to Neo4j successfully!\n",
      "Employee: John Doe, Date: 2025-04-08, Status: Present\n",
      "Employee: Jane Smith, Date: 2025-04-08, Status: Present\n",
      "Employee: David Lee, Date: 2025-04-08, Status: Present\n",
      "Employee: Emily Chen, Date: 2025-04-08, Status: Present\n",
      "Employee: Carlos Martinez, Date: 2025-04-08, Status: Present\n",
      "Employee: Manith Ratnayake, Date: 2025-04-11, Status: Present\n",
      "Employee: Uncle Bob, Date: 2025-04-11, Status: Present\n"
     ]
    }
   ],
   "source": [
    "\n",
    "from pymongo import MongoClient\n",
    "from py2neo import Graph, Node, Relationship\n",
    "import pprint\n",
    "\n",
    "# MongoDB Connection\n",
    "def connect_mongo():\n",
    "    client = MongoClient(\"mongodb://localhost:27017/\")\n",
    "    db = client[\"company_attendance\"]\n",
    "    return db[\"attendance\"]\n",
    "\n",
    "# Neo4j Connection\n",
    "def connect_neo4j():\n",
    "    graph = Graph(\"bolt://localhost:7687\", auth=(\"neo4j\", \"Manith@123\"))  # Replace with your credentials\n",
    "\n",
    "    return graph\n",
    "\n",
    "# Transfer MongoDB data to Neo4j\n",
    "def transfer_data_to_neo4j():\n",
    "    # Connect to MongoDB and Neo4j\n",
    "    mongo_collection = connect_mongo()\n",
    "    neo4j_graph = connect_neo4j()\n",
    "\n",
    "    # Fetch all attendance records from MongoDB\n",
    "    records = mongo_collection.find()\n",
    "\n",
    "    for record in records:\n",
    "        employee_id = record[\"employee_id\"]\n",
    "        employee_name = record[\"name\"]\n",
    "        date = record[\"date\"]\n",
    "        status = \"Present\" if record[\"status\"] else \"Absent\"\n",
    "\n",
    "        # Create Employee Node\n",
    "        employee_node = Node(\"Employee\", id=employee_id, name=employee_name)\n",
    "        neo4j_graph.merge(employee_node, \"Employee\", \"id\")\n",
    "\n",
    "        # Create Date Node\n",
    "        date_node = Node(\"Date\", date=date)\n",
    "        neo4j_graph.merge(date_node, \"Date\", \"date\")\n",
    "\n",
    "        # Create Relationship\n",
    "        attendance_relationship = Relationship(employee_node, \"ATTENDED\", date_node, status=status)\n",
    "        neo4j_graph.create(attendance_relationship)\n",
    "\n",
    "    print(\"Data transferred to Neo4j successfully!\")\n",
    "\n",
    "# Visualize the Graph (Optional)\n",
    "def visualize_graph():\n",
    "    neo4j_graph = connect_neo4j()\n",
    "\n",
    "    # Example query to fetch employees and their attendance status\n",
    "    query = \"\"\"\n",
    "    MATCH (e:Employee)-[r:ATTENDED]->(d:Date)\n",
    "    RETURN e.name AS employee, d.date AS date, r.status AS status\n",
    "    \"\"\"\n",
    "    \n",
    "    result = neo4j_graph.run(query)\n",
    "    \n",
    "    # Display results\n",
    "    for record in result:\n",
    "        print(f\"Employee: {record['employee']}, Date: {record['date']}, Status: {record['status']}\")\n",
    "\n",
    "# Main\n",
    "if __name__ == \"__main__\":\n",
    "    transfer_data_to_neo4j()\n",
    "    visualize_graph()\n"
   ]
  }
 ],
 "metadata": {
  "kernelspec": {
   "display_name": "Python 3 (ipykernel)",
   "language": "python",
   "name": "python3"
  },
  "language_info": {
   "codemirror_mode": {
    "name": "ipython",
    "version": 3
   },
   "file_extension": ".py",
   "mimetype": "text/x-python",
   "name": "python",
   "nbconvert_exporter": "python",
   "pygments_lexer": "ipython3",
   "version": "3.12.1"
  }
 },
 "nbformat": 4,
 "nbformat_minor": 5
}
