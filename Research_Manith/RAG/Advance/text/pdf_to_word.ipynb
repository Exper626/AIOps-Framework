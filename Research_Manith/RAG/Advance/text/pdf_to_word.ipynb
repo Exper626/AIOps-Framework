{
 "cells": [
  {
   "cell_type": "code",
   "execution_count": null,
   "id": "48eb5f60-1914-4f5c-92da-d86086c99ed7",
   "metadata": {},
   "outputs": [],
   "source": [
    "!pip install uns\n",
    "from unstructured.partition.pdf import partition_pdf\n",
    "elements = partition_pdf(filename=\"example-docs/layout-parser-paper-fast.pdf\")"
   ]
  },
  {
   "cell_type": "code",
   "execution_count": null,
   "id": "f39f151b-05c0-4e0d-bc12-3c7665b81b78",
   "metadata": {},
   "outputs": [],
   "source": [
    "!pip install \"unstructured[pdf]\n",
    "from unstructured.partition.auto import partition\n",
    "\n",
    "elements = partition(filename=\"2023.pdf\")\n",
    "print(\"\\n\\n\".join([str(el) for el in elements]))"
   ]
  },
  {
   "cell_type": "code",
   "execution_count": null,
   "id": "cc49c21e-32ef-4112-8b11-0864742a8bb8",
   "metadata": {},
   "outputs": [],
   "source": []
  }
 ],
 "metadata": {
  "kernelspec": {
   "display_name": "Python 3 (ipykernel)",
   "language": "python",
   "name": "python3"
  },
  "language_info": {
   "codemirror_mode": {
    "name": "ipython",
    "version": 3
   },
   "file_extension": ".py",
   "mimetype": "text/x-python",
   "name": "python",
   "nbconvert_exporter": "python",
   "pygments_lexer": "ipython3",
   "version": "3.12.1"
  }
 },
 "nbformat": 4,
 "nbformat_minor": 5
}
