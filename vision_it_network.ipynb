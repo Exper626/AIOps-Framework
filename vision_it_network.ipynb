{
 "cells": [
  {
   "cell_type": "code",
   "execution_count": 1,
   "metadata": {
    "_cell_guid": "b1076dfc-b9ad-4769-8c92-a6c4dae69d19",
    "_uuid": "8f2839f25d086af736a60e9eeb907d3b93b6e0e5",
    "execution": {
     "iopub.execute_input": "2025-08-07T09:48:35.829824Z",
     "iopub.status.busy": "2025-08-07T09:48:35.829640Z",
     "iopub.status.idle": "2025-08-07T09:48:49.253969Z",
     "shell.execute_reply": "2025-08-07T09:48:49.253198Z",
     "shell.execute_reply.started": "2025-08-07T09:48:35.829808Z"
    },
    "trusted": true
   },
   "outputs": [],
   "source": [
    "%%capture\n",
    "import os\n",
    "if \"COLAB_\" not in \"\".join(os.environ.keys()):\n",
    "    !pip install unsloth\n",
    "else:\n",
    "    # Do this only in Colab notebooks! Otherwise use pip install unsloth\n",
    "    !pip install --no-deps bitsandbytes accelerate xformers==0.0.29.post3 peft trl triton cut_cross_entropy unsloth_zoo\n",
    "    !pip install sentencepiece protobuf \"datasets>=3.4.1,<4.0.0\" huggingface_hub hf_transfer\n",
    "    !pip install --no-deps unsloth"
   ]
  },
  {
   "cell_type": "code",
   "execution_count": 6,
   "metadata": {
    "execution": {
     "iopub.execute_input": "2025-08-01T09:08:55.924061Z",
     "iopub.status.busy": "2025-08-01T09:08:55.923398Z",
     "iopub.status.idle": "2025-08-01T09:09:16.154336Z",
     "shell.execute_reply": "2025-08-01T09:09:16.153738Z",
     "shell.execute_reply.started": "2025-08-01T09:08:55.924027Z"
    },
    "trusted": true
   },
   "outputs": [
    {
     "name": "stdout",
     "output_type": "stream",
     "text": [
      "==((====))==  Unsloth 2025.7.11: Fast Gemma3 patching. Transformers: 4.52.4.\n",
      "   \\\\   /|    Tesla T4. Num GPUs = 2. Max memory: 14.741 GB. Platform: Linux.\n",
      "O^O/ \\_/ \\    Torch: 2.6.0+cu124. CUDA: 7.5. CUDA Toolkit: 12.4. Triton: 3.2.0\n",
      "\\        /    Bfloat16 = FALSE. FA [Xformers = 0.0.29.post3. FA2 = False]\n",
      " \"-____-\"     Free license: http://github.com/unslothai/unsloth\n",
      "Unsloth: Fast downloading is enabled - ignore downloading bars which are red colored!\n",
      "Unsloth: Using float16 precision for gemma3 won't work! Using float32.\n",
      "Unsloth: Making `base_model.model.model.vision_tower.vision_model` require gradients\n"
     ]
    }
   ],
   "source": [
    "from unsloth import FastVisionModel # FastLanguageModel for LLMs\n",
    "import torch\n",
    "\n",
    "model, processor = FastVisionModel.from_pretrained(\n",
    "    \"unsloth/gemma-3-4b-pt\",\n",
    "    load_in_4bit = True, # Use 4bit to reduce memory use. False for 16bit LoRA.\n",
    "    use_gradient_checkpointing = \"unsloth\", # True or \"unsloth\" for long context\n",
    ")\n",
    "\n",
    "\n",
    "model = FastVisionModel.get_peft_model(\n",
    "    model,\n",
    "    finetune_vision_layers     = True, # False if not finetuning vision layers\n",
    "    finetune_language_layers   = True, # False if not finetuning language layers\n",
    "    finetune_attention_modules = True, # False if not finetuning attention layers\n",
    "    finetune_mlp_modules       = True, # False if not finetuning MLP layers\n",
    "\n",
    "    r = 16,                           # The larger, the higher the accuracy, but might overfit\n",
    "    lora_alpha = 16,                  # Recommended alpha == r at least\n",
    "    lora_dropout = 0,\n",
    "    bias = \"none\",\n",
    "    random_state = 3407,\n",
    "    use_rslora = False,               # We support rank stabilized LoRA\n",
    "    loftq_config = None,               # And LoftQ\n",
    "    target_modules = \"all-linear\",    # Optional now! Can specify a list if needed\n",
    "    modules_to_save=[\n",
    "        \"lm_head\",\n",
    "        \"embed_tokens\",\n",
    "    ],\n",
    ")"
   ]
  },
  {
   "cell_type": "code",
   "execution_count": 8,
   "metadata": {
    "execution": {
     "iopub.execute_input": "2025-08-01T09:09:16.161546Z",
     "iopub.status.busy": "2025-08-01T09:09:16.161378Z",
     "iopub.status.idle": "2025-08-01T09:09:16.187345Z",
     "shell.execute_reply": "2025-08-01T09:09:16.186531Z",
     "shell.execute_reply.started": "2025-08-01T09:09:16.161532Z"
    },
    "trusted": true
   },
   "outputs": [],
   "source": [
    "from unsloth import FastVisionModel # FastLanguageModel for LLMs\n",
    "import torch\n",
    "\n",
    "import os\n",
    "from PIL import Image\n",
    "from datasets import Dataset\n",
    "\n",
    "\n",
    "from unsloth import get_chat_template\n",
    "\n",
    "processor = get_chat_template(\n",
    "    processor,\n",
    "    \"gemma-3\"\n",
    ")"
   ]
  },
  {
   "cell_type": "code",
   "execution_count": 12,
   "metadata": {
    "execution": {
     "iopub.execute_input": "2025-08-01T09:13:58.920380Z",
     "iopub.status.busy": "2025-08-01T09:13:58.920098Z",
     "iopub.status.idle": "2025-08-01T09:14:15.389821Z",
     "shell.execute_reply": "2025-08-01T09:14:15.388950Z",
     "shell.execute_reply.started": "2025-08-01T09:13:58.920360Z"
    },
    "trusted": true
   },
   "outputs": [
    {
     "name": "stdout",
     "output_type": "stream",
     "text": [
      "Created a dataset with 534 samples.\n",
      "{'image': <PIL.PngImagePlugin.PngImageFile image mode=RGB size=347x303 at 0x7D2CABDB0F10>, 'text': 'switch: \\n    - Switch0 (Model: 2950-24)'}\n",
      "{'messages': [{'role': 'user', 'content': [{'type': 'text', 'text': 'You are a Cisco Packet Tracer networking expert. Analyze the provided networking image and answer questions about its components, topology. Provide clear and concise explanations.'}, {'type': 'image', 'image': <PIL.PngImagePlugin.PngImageFile image mode=RGB size=347x303 at 0x7D2C9056EE90>}]}, {'role': 'assistant', 'content': [{'type': 'text', 'text': 'switch: \\n    - Switch0 (Model: 2950-24)'}]}]}\n"
     ]
    }
   ],
   "source": [
    "import os\n",
    "from PIL import Image\n",
    "from datasets import Dataset\n",
    "\n",
    "\n",
    "dataset_folder = \"/kaggle/input/visionnetworkgemmini1/dataset\"\n",
    "data_samples = []\n",
    "image_files = sorted([f for f in os.listdir(dataset_folder) if f.endswith(\".png\")])\n",
    "\n",
    "\n",
    "\n",
    "for image_file in image_files:\n",
    "\n",
    "    base_name = os.path.splitext(image_file)[0]\n",
    "    image_path = os.path.join(dataset_folder, image_file)\n",
    "    text_path = os.path.join(dataset_folder, f\"{base_name}.txt\")\n",
    "\n",
    "\n",
    "    if os.path.exists(image_path) and os.path.exists(text_path):\n",
    "        \n",
    "        \n",
    "        try:\n",
    "            with open(text_path, \"r\", encoding=\"utf-8\") as f:\n",
    "                text_content = f.read().strip()\n",
    "                \n",
    "            image_obj = Image.open(image_path).convert(\"RGB\")\n",
    "\n",
    "            data_samples.append({\n",
    "                \"image\": image_obj,\n",
    "                \"text\": text_content\n",
    "            })\n",
    "        except Exception as e:\n",
    "            print(f\"Error processing {base_name}: {e}\")\n",
    "    else:\n",
    "        print(f\"Warning: Missing paired file for {base_name}. Skipping.\")\n",
    "\n",
    "\n",
    "\n",
    "raw_dataset = Dataset.from_list(data_samples)\n",
    "print(f\"Created a dataset with {len(raw_dataset)} samples.\")\n",
    "print(raw_dataset[0]) \n",
    "\n",
    "\n",
    "instruction = \"You are a Cisco Packet Tracer networking expert. Analyze the provided networking image and answer questions about its components, topology. Provide clear and concise explanations.\"\n",
    "\n",
    "def convert_to_conversation(sample):\n",
    "    conversation = [\n",
    "        {\n",
    "            \"role\": \"user\",\n",
    "            \"content\": [\n",
    "                {\"type\": \"text\", \"text\": instruction},\n",
    "                {\"type\": \"image\", \"image\": sample[\"image\"]},\n",
    "            ],\n",
    "        },\n",
    "        {\"role\": \"assistant\", \"content\": [{\"type\": \"text\", \"text\": sample[\"text\"]}]},\n",
    "    ]\n",
    "    return {\"messages\": conversation}\n",
    "pass\n",
    "\n",
    "\n",
    "\n",
    "\n",
    "converted_dataset = [convert_to_conversation(sample) for sample in raw_dataset]\n",
    "print(converted_dataset[0])\n",
    "\n",
    "\n",
    "import random\n",
    "random.seed(42) \n",
    "random.shuffle(converted_dataset)\n",
    "\n",
    "\n",
    "from unsloth import get_chat_template\n",
    "\n",
    "processor = get_chat_template(\n",
    "    processor,\n",
    "    \"gemma-3\"\n",
    ")"
   ]
  },
  {
   "cell_type": "code",
   "execution_count": 14,
   "metadata": {
    "execution": {
     "iopub.execute_input": "2025-08-01T09:15:36.738648Z",
     "iopub.status.busy": "2025-08-01T09:15:36.738367Z",
     "iopub.status.idle": "2025-08-01T10:42:34.509731Z",
     "shell.execute_reply": "2025-08-01T10:42:34.508924Z",
     "shell.execute_reply.started": "2025-08-01T09:15:36.738626Z"
    },
    "trusted": true
   },
   "outputs": [
    {
     "name": "stdout",
     "output_type": "stream",
     "text": [
      "Unsloth: Switching to float32 training since model cannot work with float16\n"
     ]
    },
    {
     "name": "stderr",
     "output_type": "stream",
     "text": [
      "==((====))==  Unsloth - 2x faster free finetuning | Num GPUs used = 1\n",
      "   \\\\   /|    Num examples = 534 | Num Epochs = 3 | Total steps = 201\n",
      "O^O/ \\_/ \\    Batch size per device = 2 | Gradient accumulation steps = 4\n",
      "\\        /    Data Parallel GPUs = 1 | Total batch size (2 x 4 x 1) = 8\n",
      " \"-____-\"     Trainable parameters = 38,497,792 of 4,338,577,264 (0.89% trained)\n",
      "`use_cache=True` is incompatible with gradient checkpointing. Setting `use_cache=False`.\n"
     ]
    },
    {
     "data": {
      "text/html": [
       "\n",
       "    <div>\n",
       "      \n",
       "      <progress value='201' max='201' style='width:300px; height:20px; vertical-align: middle;'></progress>\n",
       "      [201/201 1:25:03, Epoch 3/3]\n",
       "    </div>\n",
       "    <table border=\"1\" class=\"dataframe\">\n",
       "  <thead>\n",
       " <tr style=\"text-align: left;\">\n",
       "      <th>Step</th>\n",
       "      <th>Training Loss</th>\n",
       "    </tr>\n",
       "  </thead>\n",
       "  <tbody>\n",
       "    <tr>\n",
       "      <td>20</td>\n",
       "      <td>0.911500</td>\n",
       "    </tr>\n",
       "    <tr>\n",
       "      <td>40</td>\n",
       "      <td>0.092400</td>\n",
       "    </tr>\n",
       "    <tr>\n",
       "      <td>60</td>\n",
       "      <td>0.083800</td>\n",
       "    </tr>\n",
       "    <tr>\n",
       "      <td>80</td>\n",
       "      <td>0.060000</td>\n",
       "    </tr>\n",
       "    <tr>\n",
       "      <td>100</td>\n",
       "      <td>0.064100</td>\n",
       "    </tr>\n",
       "    <tr>\n",
       "      <td>120</td>\n",
       "      <td>0.058700</td>\n",
       "    </tr>\n",
       "    <tr>\n",
       "      <td>140</td>\n",
       "      <td>0.059900</td>\n",
       "    </tr>\n",
       "    <tr>\n",
       "      <td>160</td>\n",
       "      <td>0.047200</td>\n",
       "    </tr>\n",
       "    <tr>\n",
       "      <td>180</td>\n",
       "      <td>0.050900</td>\n",
       "    </tr>\n",
       "    <tr>\n",
       "      <td>200</td>\n",
       "      <td>0.048700</td>\n",
       "    </tr>\n",
       "  </tbody>\n",
       "</table><p>"
      ],
      "text/plain": [
       "<IPython.core.display.HTML object>"
      ]
     },
     "metadata": {},
     "output_type": "display_data"
    },
    {
     "data": {
      "text/plain": [
       "['LastManith01/processor_config.json']"
      ]
     },
     "execution_count": 14,
     "metadata": {},
     "output_type": "execute_result"
    }
   ],
   "source": [
    "from unsloth.trainer import UnslothVisionDataCollator\n",
    "from trl import SFTTrainer, SFTConfig\n",
    "\n",
    "FastVisionModel.for_training(model) \n",
    "\n",
    "trainer = SFTTrainer(\n",
    "    model=model,\n",
    "    train_dataset=converted_dataset,\n",
    "    processing_class=processor.tokenizer,\n",
    "    data_collator=UnslothVisionDataCollator(model, processor),\n",
    "    args = SFTConfig(\n",
    "        per_device_train_batch_size = 1,\n",
    "        gradient_accumulation_steps = 4,\n",
    "        gradient_checkpointing = True,\n",
    "\n",
    "        # use reentrant checkpointing\n",
    "        gradient_checkpointing_kwargs = {\"use_reentrant\": False},\n",
    "        max_grad_norm = 0.3,              # max gradient norm based on QLoRA paper\n",
    "        warmup_ratio = 0.03,\n",
    "        #max_steps = 30,\n",
    "        num_train_epochs = 3,          # Set this instead of max_steps for full training runs\n",
    "        learning_rate = 2e-4,\n",
    "        logging_steps = 20,\n",
    "        save_strategy=\"steps\",\n",
    "        optim = \"adamw_torch_fused\",\n",
    "        weight_decay = 0.01,\n",
    "        lr_scheduler_type = \"cosine\",\n",
    "        seed = 3407,\n",
    "        output_dir = \"outputs\",\n",
    "        report_to = \"none\",             # For Weights and Biases\n",
    "\n",
    "        # You MUST put the below items for vision finetuning:\n",
    "        remove_unused_columns = False,\n",
    "        dataset_text_field = \"messages\",\n",
    "        dataset_kwargs = {\"skip_prepare_dataset\": True},\n",
    "    )\n",
    ")\n",
    "\n",
    "trainer_stats = trainer.train()\n",
    "model.save_pretrained(\"LastManith01\")  \n",
    "processor.save_pretrained(\"LastManith01\")"
   ]
  },
  {
   "cell_type": "code",
   "execution_count": 3,
   "metadata": {
    "execution": {
     "iopub.execute_input": "2025-08-07T09:52:30.643484Z",
     "iopub.status.busy": "2025-08-07T09:52:30.643132Z",
     "iopub.status.idle": "2025-08-07T09:52:30.755051Z",
     "shell.execute_reply": "2025-08-07T09:52:30.754312Z",
     "shell.execute_reply.started": "2025-08-07T09:52:30.643457Z"
    },
    "trusted": true
   },
   "outputs": [
    {
     "data": {
      "image/png": "[encoded data removed]",
      "text/plain": [
       "<PIL.PngImagePlugin.PngImageFile image mode=RGBA size=696x571>"
      ]
     },
     "metadata": {},
     "output_type": "display_data"
    }
   ],
   "source": [
    "from PIL import Image\n",
    "from IPython.display import display\n",
    "\n",
    "test_image = Image.open(\"/kaggle/input/visionnetworkgemmini1/dataset/523.png\")\n",
    "display(test_image)"
   ]
  },
  {
   "cell_type": "code",
   "execution_count": 15,
   "metadata": {
    "execution": {
     "iopub.execute_input": "2025-08-01T10:42:44.850918Z",
     "iopub.status.busy": "2025-08-01T10:42:44.850629Z",
     "iopub.status.idle": "2025-08-01T10:44:04.944258Z",
     "shell.execute_reply": "2025-08-01T10:44:04.943508Z",
     "shell.execute_reply.started": "2025-08-01T10:42:44.850875Z"
    },
    "trusted": true
   },
   "outputs": [
    {
     "name": "stdout",
     "output_type": "stream",
     "text": [
      "Switch:\n",
      "    - Switch23 (Model: 2950T-24)\n",
      "    - Connected to PC0 (F0/12)\n",
      "    - Connected to PC1 (F0/13)\n",
      "    - Connected to Switch10 (Dashed Line)\n",
      "\n",
      "Switch:\n",
      "    - Switch10 (Model: 2950T-24)\n",
      "    - Connected to PC2 (F0/10)\n",
      "    - Connected to PC3 (F0/9)\n",
      "    - Connected to Switch23 (Dashed Line)\n",
      "\n",
      "PC:\n",
      "    - PC0 (Model: PC-PT, IP: 192.168.1.100)\n",
      "    - Connected to Switch23 (Dashed Line)\n",
      "\n",
      "PC:\n",
      "    - PC1 (Model: PC-PT, IP: 192.168.1.120)\n",
      "    - Connected to Switch23 (Dashed Line)\n",
      "\n",
      "PC:\n",
      "    - PC2 (Model: PC-PT, IP: 192.168.1.121)\n",
      "    - Connected to Switch10 (Dashed Line)\n",
      "\n",
      "PC:\n",
      "    - PC3 (Model: PC-PT, IP: 192.168.1.148)\n",
      "    - Connected to Switch10 (Dashed Line)<end_of_turn>\n"
     ]
    }
   ],
   "source": [
    "test_image = Image.open(\"/kaggle/input/test123/test.png\").convert(\"RGB\")\n",
    "FastVisionModel.for_inference(model) \n",
    "\n",
    "# image = raw_dataset[10][\"image\"]\n",
    "image = test_image\n",
    "\n",
    "instruction = \"You are a Cisco Packet Tracer networking expert. Analyze the provided networking image and answer questions about its components, topology. Provide clear and concise explanations.\"\n",
    "\n",
    "messages = [\n",
    "    {\n",
    "        \"role\": \"user\",\n",
    "        \"content\": [{\"type\": \"image\"}, {\"type\": \"text\", \"text\": instruction}],\n",
    "    }\n",
    "]\n",
    "\n",
    "input_text = processor.apply_chat_template(messages, add_generation_prompt=True)\n",
    "inputs = processor(\n",
    "    image,\n",
    "    input_text,\n",
    "    add_special_tokens=False,\n",
    "    return_tensors=\"pt\",\n",
    ").to(\"cuda\")\n",
    "\n",
    "from transformers import TextStreamer\n",
    "\n",
    "text_streamer = TextStreamer(processor, skip_prompt=True)\n",
    "result = model.generate(**inputs, streamer = text_streamer, max_new_tokens = 600,\n",
    "                        use_cache=True, temperature = 0.5, top_p = 0.95, top_k = 30)"
   ]
  },
  {
   "cell_type": "code",
   "execution_count": 4,
   "metadata": {
    "execution": {
     "iopub.execute_input": "2025-08-07T09:52:33.991533Z",
     "iopub.status.busy": "2025-08-07T09:52:33.990725Z",
     "iopub.status.idle": "2025-08-07T09:53:07.739277Z",
     "shell.execute_reply": "2025-08-07T09:53:07.738154Z",
     "shell.execute_reply.started": "2025-08-07T09:52:33.991499Z"
    },
    "trusted": true
   },
   "outputs": [
    {
     "name": "stderr",
     "output_type": "stream",
     "text": [
      "/tmp/ipykernel_36/1964422547.py:6: UserWarning: WARNING: Unsloth should be imported before transformers to ensure all optimizations are applied. Your code may run slower or encounter memory issues without these optimizations.\n",
      "\n",
      "Please restructure your imports with 'import unsloth' at the top of your file.\n",
      "  from unsloth import FastLanguageModel\n"
     ]
    },
    {
     "name": "stdout",
     "output_type": "stream",
     "text": [
      "🦥 Unsloth: Will patch your computer to enable 2x faster free finetuning.\n"
     ]
    },
    {
     "name": "stderr",
     "output_type": "stream",
     "text": [
      "2025-08-07 09:52:40.474054: E external/local_xla/xla/stream_executor/cuda/cuda_fft.cc:477] Unable to register cuFFT factory: Attempting to register factory for plugin cuFFT when one has already been registered\n",
      "WARNING: All log messages before absl::InitializeLog() is called are written to STDERR\n",
      "E0000 00:00:1754560360.649586      36 cuda_dnn.cc:8310] Unable to register cuDNN factory: Attempting to register factory for plugin cuDNN when one has already been registered\n",
      "E0000 00:00:1754560360.697711      36 cuda_blas.cc:1418] Unable to register cuBLAS factory: Attempting to register factory for plugin cuBLAS when one has already been registered\n"
     ]
    },
    {
     "name": "stdout",
     "output_type": "stream",
     "text": [
      "🦥 Unsloth Zoo will now patch everything to make training faster!\n"
     ]
    },
    {
     "ename": "NameError",
     "evalue": "name 'max_seq_length' is not defined",
     "output_type": "error",
     "traceback": [
      "\u001b[0;31m---------------------------------------------------------------------------\u001b[0m",
      "\u001b[0;31mNameError\u001b[0m                                 Traceback (most recent call last)",
      "\u001b[0;32m/tmp/ipykernel_36/1964422547.py\u001b[0m in \u001b[0;36m<cell line: 0>\u001b[0;34m()\u001b[0m\n\u001b[1;32m      7\u001b[0m     model, tokenizer = FastLanguageModel.from_pretrained(\n\u001b[1;32m      8\u001b[0m         \u001b[0mmodel_name\u001b[0m \u001b[0;34m=\u001b[0m \u001b[0;34m\"/kaggle/working/LastManith01\"\u001b[0m\u001b[0;34m,\u001b[0m\u001b[0;34m\u001b[0m\u001b[0;34m\u001b[0m\u001b[0m\n\u001b[0;32m----> 9\u001b[0;31m         \u001b[0mmax_seq_length\u001b[0m \u001b[0;34m=\u001b[0m \u001b[0mmax_seq_length\u001b[0m\u001b[0;34m,\u001b[0m\u001b[0;34m\u001b[0m\u001b[0;34m\u001b[0m\u001b[0m\n\u001b[0m\u001b[1;32m     10\u001b[0m         \u001b[0mdtype\u001b[0m \u001b[0;34m=\u001b[0m \u001b[0mdtype\u001b[0m\u001b[0;34m,\u001b[0m\u001b[0;34m\u001b[0m\u001b[0;34m\u001b[0m\u001b[0m\n\u001b[1;32m     11\u001b[0m         \u001b[0mload_in_4bit\u001b[0m \u001b[0;34m=\u001b[0m \u001b[0mload_in_4bit\u001b[0m\u001b[0;34m,\u001b[0m\u001b[0;34m\u001b[0m\u001b[0;34m\u001b[0m\u001b[0m\n",
      "\u001b[0;31mNameError\u001b[0m: name 'max_seq_length' is not defined"
     ]
    }
   ],
   "source": [
    "from transformers import TextStreamer\n",
    "import unsloth\n",
    "test_image = Image.open(\"/kaggle/input/visionnetworkgemmini1/dataset/523.png\").convert(\"RGB\")\n",
    "\n",
    "if True:\n",
    "\n",
    "    from unsloth import FastLanguageModel\n",
    "    model, tokenizer = FastLanguageModel.from_pretrained(\n",
    "        model_name = \"/kaggle/working/LastManith01\",\n",
    "        max_seq_length = max_seq_length,\n",
    "        dtype = dtype,\n",
    "        load_in_4bit = load_in_4bit,\n",
    "    )\n",
    "    \n",
    "    FastLanguageModel.for_inference(model)\n",
    "\n",
    "image = test_image\n",
    "instruction = \"You are a Cisco Packet Tracer networking expert. Analyze the provided networking image and answer questions about its components, topology. Provide clear and concise explanations.\"\n",
    "\n",
    "messages = [\n",
    "    {\n",
    "        \"role\": \"user\",\n",
    "        \"content\": [{\"type\": \"image\"}, {\"type\": \"text\", \"text\": instruction}],\n",
    "    }\n",
    "]\n",
    "\n",
    "\n",
    "input_text = processor.apply_chat_template(messages, add_generation_prompt=True)\n",
    "inputs = processor(\n",
    "    image,\n",
    "    input_text,\n",
    "    add_special_tokens=False,\n",
    "    return_tensors=\"pt\",\n",
    ").to(\"cuda\")\n",
    "\n",
    "\n",
    "\n",
    "\n",
    "\n",
    "text_streamer = TextStreamer(processor, skip_prompt=True)\n",
    "result = model.generate(**inputs, streamer = text_streamer, max_new_tokens = 600,\n",
    "                        use_cache=True, temperature = 0.5, top_p = 0.95, top_k = 30)"
   ]
  },
  {
   "cell_type": "code",
   "execution_count": null,
   "metadata": {
    "execution": {
     "iopub.execute_input": "2025-08-01T11:08:54.400156Z",
     "iopub.status.busy": "2025-08-01T11:08:54.399401Z",
     "iopub.status.idle": "2025-08-01T11:08:54.459698Z",
     "shell.execute_reply": "2025-08-01T11:08:54.458741Z",
     "shell.execute_reply.started": "2025-08-01T11:08:54.400131Z"
    },
    "trusted": true
   },
   "outputs": [],
   "source": [
    "from PIL import Image\n",
    "from transformers import TextStreamer\n",
    "\n",
    "# Load image\n",
    "test_image_2 = Image.open(\"/kaggle/input/test123/test.png\").convert(\"RGB\")\n",
    "test_image = Image.open(\"/kaggle/input/visionnetworkgemmini1/dataset/521.png\")\n",
    "FastVisionModel.for_inference(model) \n",
    "\n",
    "image = test_image\n",
    "\n",
    "instruction = \"You are a Cisco Packet Tracer networking expert. Analyze the provided networking image and answer questions about its components, topology. Provide clear and concise explanations.\"\n",
    "\n",
    "messages = [\n",
    "    {\n",
    "        \"role\": \"user\",\n",
    "        \"content\": [{\"type\": \"image\"}, {\"type\": \"text\", \"text\": instruction}],\n",
    "    }\n",
    "]\n",
    "\n",
    "# Prepare inputs\n",
    "input_text = processor.apply_chat_template(messages, add_generation_prompt=True)\n",
    "inputs = processor(\n",
    "    image,\n",
    "    input_text,\n",
    "    add_special_tokens=False,\n",
    "    return_tensors=\"pt\",\n",
    ").to(\"cuda\")\n",
    "\n",
    "# --- Custom streamer to capture text ---\n",
    "class SaveTextStreamer(TextStreamer):\n",
    "    def __init__(self, tokenizer, skip_prompt=True):\n",
    "        super().__init__(tokenizer, skip_prompt=skip_prompt)\n",
    "        self.generated_text = \"\"\n",
    "\n",
    "    def on_finalized_text(self, text: str, stream_end: bool = False):\n",
    "        self.generated_text += text\n",
    "        super().on_finalized_text(text, stream_end)\n",
    "\n",
    "# Use our custom streamer\n",
    "text_streamer = SaveTextStreamer(processor, skip_prompt=True)\n",
    "\n",
    "# Generate\n",
    "model.generate(\n",
    "    **inputs,\n",
    "    streamer=text_streamer,\n",
    "    max_new_tokens=600,\n",
    "    use_cache=True,\n",
    "    temperature=0.5,\n",
    "    top_p=0.95,\n",
    "    top_k=30\n",
    ")\n",
    "\n",
    "# Now you can access the full result\n",
    "generated_text = text_streamer.generated_text\n",
    "print(\"\\n\\n--- Final Captured Output ---\\n\")\n",
    "print(generated_text)"
   ]
  },
  {
   "cell_type": "code",
   "execution_count": 18,
   "metadata": {
    "execution": {
     "iopub.execute_input": "2025-08-01T10:50:02.942218Z",
     "iopub.status.busy": "2025-08-01T10:50:02.941670Z",
     "iopub.status.idle": "2025-08-01T10:50:02.947395Z",
     "shell.execute_reply": "2025-08-01T10:50:02.946653Z",
     "shell.execute_reply.started": "2025-08-01T10:50:02.942191Z"
    },
    "trusted": true
   },
   "outputs": [
    {
     "data": {
      "text/plain": [
       "'Switch:\\n    - Switch10 (Model: 2950T-24)\\n    - Connected to PC1 (F0/1)\\n    - Connected to PC3 (F0/9)\\n    - Connected to Switch23 (Dashed Line)\\n\\nSwitch:\\n    - Switch23 (Model: 2950T-24)\\n    - Connected to PC0 (F0/12)\\n    - Connected to PC2 (F0/10)\\n    - Connected to Switch10 (Dashed Line)\\n\\nPC:\\n    - PC1 (Model: PC-PT, IP: 192.168.1.120)\\n    - Connected to Switch10\\n\\nPC:\\n    - PC3 (Model: PC-PT, IP: 192.168.1.148)\\n    - Connected to Switch10\\n\\nPC:\\n    - PC0 (Model: PC-PT, IP: 192.168.1.100)\\n    - Connected to Switch23\\n\\nPC:\\n    - PC2 (Model: PC-PT, IP: 192.168.1.121)\\n    - Connected to Switch23<end_of_turn>'"
      ]
     },
     "execution_count": 18,
     "metadata": {},
     "output_type": "execute_result"
    }
   ],
   "source": [
    "generated_text"
   ]
  }
 ],
 "metadata": {
  "kaggle": {
   "accelerator": "nvidiaTeslaT4",
   "dataSources": [
    {
     "datasetId": 7925943,
     "sourceId": 12552851,
     "sourceType": "datasetVersion"
    },
    {
     "datasetId": 7965287,
     "sourceId": 12610578,
     "sourceType": "datasetVersion"
    },
    {
     "datasetId": 7923542,
     "sourceId": 12639350,
     "sourceType": "datasetVersion"
    }
   ],
   "dockerImageVersionId": 31090,
   "isGpuEnabled": true,
   "isInternetEnabled": true,
   "language": "python",
   "sourceType": "notebook"
  },
  "kernelspec": {
   "display_name": "Python 3",
   "language": "python",
   "name": "python3"
  },
  "language_info": {
   "codemirror_mode": {
    "name": "ipython",
    "version": 3
   },
   "file_extension": ".py",
   "mimetype": "text/x-python",
   "name": "python",
   "nbconvert_exporter": "python",
   "pygments_lexer": "ipython3",
   "version": "3.11.13"
  }
 },
 "nbformat": 4,
 "nbformat_minor": 4
}
